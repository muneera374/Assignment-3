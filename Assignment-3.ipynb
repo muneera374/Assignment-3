{
 "cells": [
  {
   "cell_type": "code",
   "execution_count": 9,
   "id": "8c521081",
   "metadata": {},
   "outputs": [
    {
     "name": "stdout",
     "output_type": "stream",
     "text": [
      "1 \n",
      "\n",
      "2 2 \n",
      "\n",
      "3 3 3 \n",
      "\n",
      "4 4 4 4 \n",
      "\n",
      "5 5 5 5 5 \n",
      "\n"
     ]
    }
   ],
   "source": [
    "# a\n",
    "x=1\n",
    "while x<=5:\n",
    "    y=1\n",
    "    while y<=x:\n",
    "        print(x,end=\" \")\n",
    "        y=y+1\n",
    "    print(\"\\n\")\n",
    "    x=x+1"
   ]
  },
  {
   "cell_type": "code",
   "execution_count": 10,
   "id": "e5f8f1e1",
   "metadata": {},
   "outputs": [
    {
     "name": "stdout",
     "output_type": "stream",
     "text": [
      "1 \n",
      "\n",
      "1 2 \n",
      "\n",
      "1 2 3 \n",
      "\n",
      "1 2 3 4 \n",
      "\n",
      "1 2 3 4 5 \n",
      "\n"
     ]
    }
   ],
   "source": [
    "#b\n",
    "x=1\n",
    "while x<=5:\n",
    "    y=1\n",
    "    while y<=x:\n",
    "        print(y,end=\" \")\n",
    "        y=y+1\n",
    "    print(\"\\n\")\n",
    "    x=x+1"
   ]
  },
  {
   "cell_type": "code",
   "execution_count": 11,
   "id": "5d5dc86d",
   "metadata": {},
   "outputs": [
    {
     "name": "stdout",
     "output_type": "stream",
     "text": [
      "1 1 1 1 1 \n",
      "\n",
      "2 2 2 2 \n",
      "\n",
      "3 3 3 \n",
      "\n",
      "4 4 \n",
      "\n",
      "5 \n",
      "\n"
     ]
    }
   ],
   "source": [
    "# c\n",
    "x=5\n",
    "count=1\n",
    "while x>=1:\n",
    "    y=1\n",
    "    while y<=x:\n",
    "        print(count,end=\" \")\n",
    "        y=y+1\n",
    "    count=count+1\n",
    "    print(\"\\n\")\n",
    "    x=x-1"
   ]
  },
  {
   "cell_type": "code",
   "execution_count": 12,
   "id": "5c144eda",
   "metadata": {},
   "outputs": [
    {
     "name": "stdout",
     "output_type": "stream",
     "text": [
      "5 5 5 5 5 \n",
      "\n",
      "5 5 5 5 \n",
      "\n",
      "5 5 5 \n",
      "\n",
      "5 5 \n",
      "\n",
      "5 \n",
      "\n"
     ]
    }
   ],
   "source": [
    "#d\n",
    "x=5\n",
    "while x>=1:\n",
    "    y=1\n",
    "    while y<=x:\n",
    "        print(\"5\",end=\" \")\n",
    "        y=y+1\n",
    "    count=count+1\n",
    "    print(\"\\n\")\n",
    "    x=x-1"
   ]
  },
  {
   "cell_type": "code",
   "execution_count": 13,
   "id": "e1810413",
   "metadata": {},
   "outputs": [
    {
     "name": "stdout",
     "output_type": "stream",
     "text": [
      "0 1 2 3 4 5 \n",
      "\n",
      "0 1 2 3 4 \n",
      "\n",
      "0 1 2 3 \n",
      "\n",
      "0 1 2 \n",
      "\n",
      "0 1 \n",
      "\n"
     ]
    }
   ],
   "source": [
    "#e\n",
    "x=5\n",
    "while x>=1:\n",
    "    y=0\n",
    "    while y<=x:\n",
    "        print(y,end=\" \")\n",
    "        y=y+1\n",
    "    count=count+1\n",
    "    print(\"\\n\")\n",
    "    x=x-1"
   ]
  },
  {
   "cell_type": "code",
   "execution_count": 14,
   "id": "df753847",
   "metadata": {},
   "outputs": [
    {
     "name": "stdout",
     "output_type": "stream",
     "text": [
      "1 \n",
      "\n",
      "3 3 \n",
      "\n",
      "5 5 5 \n",
      "\n",
      "7 7 7 7 \n",
      "\n",
      "9 9 9 9 9 \n",
      "\n"
     ]
    }
   ],
   "source": [
    "#f\n",
    "x=1\n",
    "count=1\n",
    "while x<=5:\n",
    "    y=1\n",
    "    while y<=x:\n",
    "        print(count,end=' ')\n",
    "        y=y+1\n",
    "    print(\"\\n\")\n",
    "    count=count+2\n",
    "    x=x+1"
   ]
  },
  {
   "cell_type": "code",
   "execution_count": 15,
   "id": "20da5a94",
   "metadata": {},
   "outputs": [
    {
     "name": "stdout",
     "output_type": "stream",
     "text": [
      "5 5 5 5 5 \n",
      "\n",
      "4 4 4 4 \n",
      "\n",
      "3 3 3 \n",
      "\n",
      "2 2 \n",
      "\n",
      "1 \n",
      "\n"
     ]
    }
   ],
   "source": [
    "# g\n",
    "x=5\n",
    "while x>=1:\n",
    "    y=1\n",
    "    while y<=x:\n",
    "        print(x,end=\" \")\n",
    "        y=y+1\n",
    "    print(\"\\n\")\n",
    "    x=x-1"
   ]
  },
  {
   "cell_type": "code",
   "execution_count": 16,
   "id": "42f782dc",
   "metadata": {},
   "outputs": [
    {
     "name": "stdout",
     "output_type": "stream",
     "text": [
      "1 \n",
      "\n",
      "2 1 \n",
      "\n",
      "3 2 1 \n",
      "\n",
      "4 3 2 1 \n",
      "\n",
      "5 4 3 2 1 \n",
      "\n"
     ]
    }
   ],
   "source": [
    "#h\n",
    "x=1\n",
    "while x<=5:\n",
    "    y=x\n",
    "    while y>=1:\n",
    "        print(y,end=\" \")\n",
    "        y=y-1\n",
    "    print(\"\\n\")\n",
    "    x=x+1"
   ]
  },
  {
   "cell_type": "code",
   "execution_count": 17,
   "id": "fb1dee3c",
   "metadata": {},
   "outputs": [
    {
     "name": "stdout",
     "output_type": "stream",
     "text": [
      "5 4 3 2 1 \n",
      "\n",
      "4 3 2 1 \n",
      "\n",
      "3 2 1 \n",
      "\n",
      "2 1 \n",
      "\n",
      "1 \n",
      "\n"
     ]
    }
   ],
   "source": [
    "#i\n",
    "x=5\n",
    "while x>=1:\n",
    "    y=x\n",
    "    while y>=1:\n",
    "        print(y,end=\" \")\n",
    "        y=y-1\n",
    "    print(\"\\n\")\n",
    "    x=x-1"
   ]
  },
  {
   "cell_type": "code",
   "execution_count": 18,
   "id": "844b3147",
   "metadata": {},
   "outputs": [
    {
     "name": "stdout",
     "output_type": "stream",
     "text": [
      "1 \n",
      "\n",
      "3 2 \n",
      "\n",
      "6 5 4 \n",
      "\n",
      "10 9 8 7 \n",
      "\n"
     ]
    }
   ],
   "source": [
    "#j\n",
    "x=1\n",
    "count=1\n",
    "while x<=4:\n",
    "    y=1\n",
    "    count=count+x\n",
    "    while y<=x:\n",
    "        print(count-y,end=\" \")\n",
    "        y=y+1\n",
    "    print(\"\\n\")\n",
    "    x=x+1"
   ]
  },
  {
   "cell_type": "code",
   "execution_count": 19,
   "id": "dc9ce137",
   "metadata": {},
   "outputs": [
    {
     "name": "stdout",
     "output_type": "stream",
     "text": [
      "        1 \n",
      "\n",
      "      1 2 \n",
      "\n",
      "    1 2 3 \n",
      "\n",
      "  1 2 3 4 \n",
      "\n",
      "1 2 3 4 5 \n",
      "\n"
     ]
    }
   ],
   "source": [
    "#k\n",
    "x=5\n",
    "while x>=1:\n",
    "    y=1\n",
    "    count=1\n",
    "    while y<=5:\n",
    "        if y<x:\n",
    "            print(\" \",end=\" \")\n",
    "        else:\n",
    "            print(count,end=\" \")\n",
    "            count=count+1\n",
    "        y=y+1\n",
    "    print(\"\\n\")\n",
    "    x=x-1"
   ]
  },
  {
   "cell_type": "code",
   "execution_count": 20,
   "id": "be02724b",
   "metadata": {},
   "outputs": [
    {
     "name": "stdout",
     "output_type": "stream",
     "text": [
      "1 2 3 4 5 \n",
      "\n",
      "2 2 3 4 5 \n",
      "\n",
      "3 3 3 4 5 \n",
      "\n",
      "4 4 4 4 5 \n",
      "\n",
      "5 5 5 5 5 \n",
      "\n"
     ]
    }
   ],
   "source": [
    "#m\n",
    "x=1\n",
    "while x<=5:\n",
    "    y=1\n",
    "    while y<=5:\n",
    "        if y<=x:\n",
    "            print(x,end=\" \")\n",
    "        else:\n",
    "            print(y,end=\" \")\n",
    "        y=y+1\n",
    "    print(\"\\n\")\n",
    "    x=x+1"
   ]
  },
  {
   "cell_type": "code",
   "execution_count": 21,
   "id": "63bb00bd",
   "metadata": {},
   "outputs": [
    {
     "name": "stdout",
     "output_type": "stream",
     "text": [
      "1 \n",
      "\n",
      "2 4 \n",
      "\n",
      "3 6 9 \n",
      "\n",
      "4 8 12 16 \n",
      "\n",
      "5 10 15 20 25 \n",
      "\n",
      "6 12 18 24 30 36 \n",
      "\n",
      "7 14 21 28 35 42 49 \n",
      "\n",
      "8 16 24 32 40 48 56 64 \n",
      "\n"
     ]
    }
   ],
   "source": [
    "#n\n",
    "x=1\n",
    "while x<=8:\n",
    "    y=1\n",
    "    while y<=x:\n",
    "        print(x*y,end=\" \")\n",
    "        y=y+1\n",
    "    print(\"\\n\")\n",
    "    x=x+1"
   ]
  },
  {
   "cell_type": "code",
   "execution_count": 22,
   "id": "de2032f8",
   "metadata": {},
   "outputs": [
    {
     "name": "stdout",
     "output_type": "stream",
     "text": [
      "* \n",
      "\n",
      "* * \n",
      "\n",
      "* * * \n",
      "\n",
      "* * * * \n",
      "\n",
      "* * * * * \n",
      "\n"
     ]
    }
   ],
   "source": [
    "#o\n",
    "x=1\n",
    "while x<=5:\n",
    "    y=1\n",
    "    while y<=x:\n",
    "        print(\"*\",end=\" \")\n",
    "        y=y+1\n",
    "    print(\"\\n\")\n",
    "    x=x+1"
   ]
  },
  {
   "cell_type": "code",
   "execution_count": 23,
   "id": "a8e6e2e1",
   "metadata": {},
   "outputs": [
    {
     "name": "stdout",
     "output_type": "stream",
     "text": [
      "        * \n",
      "\n",
      "      * * \n",
      "\n",
      "    * * * \n",
      "\n",
      "  * * * * \n",
      "\n",
      "* * * * * \n",
      "\n"
     ]
    }
   ],
   "source": [
    "#p\n",
    "x=5\n",
    "while x>=1:\n",
    "    y=1\n",
    "    while y<=5:\n",
    "        if y<x:\n",
    "            print(\" \",end=\" \")\n",
    "        else:\n",
    "            print(\"*\",end=\" \")\n",
    "        y=y+1\n",
    "    print(\"\\n\")\n",
    "    x=x-1"
   ]
  },
  {
   "cell_type": "code",
   "execution_count": 24,
   "id": "f01e1d8f",
   "metadata": {},
   "outputs": [
    {
     "name": "stdout",
     "output_type": "stream",
     "text": [
      "* * * * * \n",
      "\n",
      "* * * * \n",
      "\n",
      "* * * \n",
      "\n",
      "* * \n",
      "\n",
      "* \n",
      "\n"
     ]
    }
   ],
   "source": [
    "#q\n",
    "x=5\n",
    "while x>=1:\n",
    "    y=x\n",
    "    while y>=1:\n",
    "        print(\"*\",end=\" \")\n",
    "        y=y-1\n",
    "    print(\"\\n\")\n",
    "    x=x-1"
   ]
  },
  {
   "cell_type": "code",
   "execution_count": 25,
   "id": "20c334f9",
   "metadata": {},
   "outputs": [
    {
     "name": "stdout",
     "output_type": "stream",
     "text": [
      "* * * * * * \n",
      "\n",
      "  * * * * * \n",
      "\n",
      "    * * * * \n",
      "\n",
      "      * * * \n",
      "\n",
      "        * * \n",
      "\n",
      "          * \n",
      "\n"
     ]
    }
   ],
   "source": [
    "#r is not correctly executed\n",
    "x=1\n",
    "while x<=6:\n",
    "    y=1\n",
    "    while y<=6:\n",
    "        if y<x:\n",
    "            print(\" \",end=\" \")\n",
    "        else:\n",
    "            print(\"*\",end=\" \")\n",
    "        y=y+1\n",
    "    print(\"\\n\")\n",
    "    x=x+1"
   ]
  },
  {
   "cell_type": "code",
   "execution_count": 28,
   "id": "72a7bc9a",
   "metadata": {},
   "outputs": [
    {
     "name": "stdout",
     "output_type": "stream",
     "text": [
      "*****\n",
      "\n",
      " ****\n",
      "\n",
      "  ***\n",
      "\n",
      "   **\n",
      "\n",
      "    *\n",
      "\n"
     ]
    }
   ],
   "source": [
    "#s\n",
    "x=1\n",
    "while x<=5:\n",
    "    y=1\n",
    "    while y<=5:\n",
    "        if y<x:\n",
    "            print(\" \",end=\"\")\n",
    "        else:\n",
    "            print(\"*\",end=\"\")\n",
    "        y=y+1\n",
    "    print(\"\\n\")\n",
    "    x=x+1"
   ]
  },
  {
   "cell_type": "code",
   "execution_count": null,
   "id": "1d492440",
   "metadata": {},
   "outputs": [],
   "source": []
  },
  {
   "cell_type": "code",
   "execution_count": 14,
   "id": "a76c8fae",
   "metadata": {},
   "outputs": [
    {
     "name": "stdout",
     "output_type": "stream",
     "text": [
      "* \n",
      "\n",
      "* * \n",
      "\n",
      "* * * \n",
      "\n",
      "* * * * \n",
      "\n",
      "* * * * * \n",
      "\n",
      "* * * * * * \n",
      "\n",
      "\n",
      "\n",
      "\n",
      "\n",
      "* * * * * * \n",
      "\n",
      "* * * * * \n",
      "\n",
      "* * * * \n",
      "\n",
      "* * * \n",
      "\n",
      "* * \n",
      "\n",
      "* \n",
      "\n"
     ]
    }
   ],
   "source": [
    "#q\n",
    "x=1\n",
    "star=2\n",
    "while x<14:\n",
    "    if x<=6:\n",
    "        y=1\n",
    "        while y<=x:\n",
    "            print(\"*\",end=\" \")\n",
    "            y=y+1\n",
    "    elif x==7:\n",
    "        print(\"\\n\")\n",
    "    else:\n",
    "        y=1\n",
    "        while y<=(x-star):\n",
    "            print(\"*\",end=\" \")\n",
    "            y=y+1\n",
    "        star=star+2\n",
    "    print(\"\\n\")\n",
    "    x=x+1"
   ]
  },
  {
   "cell_type": "code",
   "execution_count": 26,
   "id": "833cd3bb",
   "metadata": {},
   "outputs": [
    {
     "name": "stdout",
     "output_type": "stream",
     "text": [
      "* \n",
      "\n",
      "* * \n",
      "\n",
      "* * * \n",
      "\n",
      "* * * * \n",
      "\n",
      "* * * * * \n",
      "\n",
      "* * * * \n",
      "\n",
      "* * * \n",
      "\n",
      "* * \n",
      "\n",
      "* \n",
      "\n"
     ]
    }
   ],
   "source": [
    "x=1\n",
    "star=2\n",
    "while x<=9:\n",
    "    if x<=5:\n",
    "        y=1\n",
    "        while y<=x:\n",
    "            print(\"*\",end=\" \")\n",
    "            y=y+1\n",
    "    else:\n",
    "        y=1\n",
    "        while y<=(x-star):\n",
    "            print(\"*\",end=\" \")\n",
    "            y=y+1\n",
    "        star=star+2\n",
    "    print(\"\\n\")\n",
    "    x=x+1"
   ]
  },
  {
   "cell_type": "code",
   "execution_count": 24,
   "id": "00ac23fc",
   "metadata": {},
   "outputs": [
    {
     "name": "stdout",
     "output_type": "stream",
     "text": [
      "        * \n",
      "\n",
      "      * * \n",
      "\n",
      "    * * * \n",
      "\n",
      "  * * * * \n",
      "\n",
      "* * * * * \n",
      "\n",
      "  * * * * \n",
      "\n",
      "    * * * \n",
      "\n",
      "      * * \n",
      "\n",
      "        * \n",
      "\n"
     ]
    }
   ],
   "source": [
    "#s\n",
    "x=1\n",
    "star=1\n",
    "while x<=9:\n",
    "    if x<=5:\n",
    "        y=5\n",
    "        while y>=1:\n",
    "            if y>x:\n",
    "                print(\" \",end=\" \")\n",
    "            else:\n",
    "                print(\"*\",end=\" \")\n",
    "            y=y-1\n",
    "    else:\n",
    "        y=0\n",
    "        while y<=4:\n",
    "            if y<star:\n",
    "                print(\" \",end=\" \")\n",
    "            else:\n",
    "                print(\"*\",end=\" \")\n",
    "            y=y+1\n",
    "        star=star+1\n",
    "    print(\"\\n\")\n",
    "    x=x+1"
   ]
  },
  {
   "cell_type": "code",
   "execution_count": 5,
   "id": "ace7c5df",
   "metadata": {},
   "outputs": [
    {
     "name": "stdout",
     "output_type": "stream",
     "text": [
      "    * \n",
      "\n",
      "   * * \n",
      "\n",
      "  * * * \n",
      "\n",
      " * * * * \n",
      "\n",
      "* * * * * \n",
      "\n"
     ]
    }
   ],
   "source": [
    "#t\n",
    "x=5\n",
    "while x>=1:\n",
    "    y=1\n",
    "    count=1\n",
    "    while y<=5:\n",
    "        if y<x:\n",
    "            print(\" \",end=\"\")\n",
    "        else:\n",
    "            print(\"*\",end=\" \")\n",
    "        y=y+1\n",
    "    print(\"\\n\")\n",
    "    x=x-1"
   ]
  },
  {
   "cell_type": "code",
   "execution_count": 9,
   "id": "61fe0a11",
   "metadata": {},
   "outputs": [
    {
     "name": "stdout",
     "output_type": "stream",
     "text": [
      "* * * * * * \n",
      "\n",
      " * * * * * \n",
      "\n",
      "  * * * * \n",
      "\n",
      "   * * * \n",
      "\n",
      "    * * \n",
      "\n",
      "     * \n",
      "\n"
     ]
    }
   ],
   "source": [
    "#r\n",
    "x=6\n",
    "while x>=1:\n",
    "    y=6\n",
    "    while y>=1:\n",
    "        if y>x:\n",
    "            print(\" \",end=\"\")\n",
    "        else:\n",
    "            print(\"*\",end=\" \")\n",
    "        y=y-1\n",
    "    print(\"\\n\")\n",
    "    x=x-1"
   ]
  },
  {
   "cell_type": "code",
   "execution_count": 1,
   "id": "34770ae5",
   "metadata": {},
   "outputs": [
    {
     "name": "stdout",
     "output_type": "stream",
     "text": [
      "* * * * * \n",
      "\n",
      " * * * * \n",
      "\n",
      "  * * * \n",
      "\n",
      "   * * \n",
      "\n",
      "    * \n",
      "\n",
      "    * \n",
      "\n",
      "   * * \n",
      "\n",
      "  * * * \n",
      "\n",
      " * * * * \n",
      "\n",
      "* * * * * \n",
      "\n"
     ]
    }
   ],
   "source": [
    "#t\n",
    "x=10\n",
    "while x>=1:\n",
    "    if x>5:\n",
    "        y=10\n",
    "        while y>5:\n",
    "            if y>x:\n",
    "                print(\" \",end=\"\")\n",
    "            else:\n",
    "                print(\"*\",end=\" \")\n",
    "            y=y-1\n",
    "        print(\"\\n\")\n",
    "        x=x-1\n",
    "    else:\n",
    "        y=1\n",
    "        while y<=5:\n",
    "            if y<x:\n",
    "                print(\" \",end=\"\")\n",
    "            else:\n",
    "                print(\"*\",end=\" \")\n",
    "            y=y+1\n",
    "        print(\"\\n\")\n",
    "        x=x-1"
   ]
  },
  {
   "cell_type": "code",
   "execution_count": 2,
   "id": "4fd8bdab",
   "metadata": {},
   "outputs": [
    {
     "name": "stdout",
     "output_type": "stream",
     "text": [
      "    * \n",
      "\n",
      "   * * \n",
      "\n",
      "  * * * \n",
      "\n",
      " * * * * \n",
      "\n",
      "* * * * * \n",
      "\n",
      " * * * * \n",
      "\n",
      "  * * * \n",
      "\n",
      "   * * \n",
      "\n",
      "    * \n",
      "\n"
     ]
    }
   ],
   "source": [
    "#u\n",
    "x=1\n",
    "star=1\n",
    "while x<=9:\n",
    "    if x<=5:\n",
    "        y=5\n",
    "        while y>=1:\n",
    "            if y>x:\n",
    "                print(\" \",end=\"\")\n",
    "            else:\n",
    "                print(\"*\",end=\" \")\n",
    "            y=y-1\n",
    "    else:\n",
    "        y=0\n",
    "        while y<=4:\n",
    "            if y<star:\n",
    "                print(\" \",end=\"\")\n",
    "            else:\n",
    "                print(\"*\",end=\" \")\n",
    "            y=y+1\n",
    "        star=star+1\n",
    "    print(\"\\n\")\n",
    "    x=x+1"
   ]
  },
  {
   "cell_type": "code",
   "execution_count": 6,
   "id": "a294ce67",
   "metadata": {},
   "outputs": [
    {
     "name": "stdout",
     "output_type": "stream",
     "text": [
      "    * \n",
      "\n",
      "   * * \n",
      "\n",
      "  *   * \n",
      "\n",
      " *     * \n",
      "\n",
      "*       * \n",
      "\n",
      " *     * \n",
      "\n",
      "  *   * \n",
      "\n",
      "   * * \n",
      "\n",
      "    * \n",
      "\n"
     ]
    }
   ],
   "source": [
    "#v\n",
    "x=1\n",
    "star=1\n",
    "while x<=9:\n",
    "    if x<=5:\n",
    "        y=5\n",
    "        while y>=1:\n",
    "            if y>x:\n",
    "                print(\" \",end=\"\")\n",
    "            else:\n",
    "                if y==x or y==1:\n",
    "                    print(\"*\",end=\" \")\n",
    "                else:\n",
    "                    print(\" \",end=\" \")\n",
    "            y=y-1\n",
    "    else:\n",
    "        y=0\n",
    "        while y<=4:\n",
    "            if y<star:\n",
    "                print(\" \",end=\"\")\n",
    "            else:\n",
    "                if y==star or y==4:\n",
    "                    print(\"*\",end=\" \")\n",
    "                else:\n",
    "                    print(\" \",end=\" \")\n",
    "            y=y+1\n",
    "        star=star+1\n",
    "    print(\"\\n\")\n",
    "    x=x+1"
   ]
  },
  {
   "cell_type": "code",
   "execution_count": null,
   "id": "868da2ea",
   "metadata": {},
   "outputs": [],
   "source": []
  },
  {
   "cell_type": "code",
   "execution_count": null,
   "id": "ed2fde64",
   "metadata": {},
   "outputs": [],
   "source": []
  }
 ],
 "metadata": {
  "kernelspec": {
   "display_name": "Python 3 (ipykernel)",
   "language": "python",
   "name": "python3"
  },
  "language_info": {
   "codemirror_mode": {
    "name": "ipython",
    "version": 3
   },
   "file_extension": ".py",
   "mimetype": "text/x-python",
   "name": "python",
   "nbconvert_exporter": "python",
   "pygments_lexer": "ipython3",
   "version": "3.11.3"
  }
 },
 "nbformat": 4,
 "nbformat_minor": 5
}
